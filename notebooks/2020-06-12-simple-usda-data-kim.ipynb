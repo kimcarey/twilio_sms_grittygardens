{
 "cells": [
  {
   "cell_type": "code",
   "execution_count": 1,
   "metadata": {},
   "outputs": [],
   "source": [
    "import csv"
   ]
  },
  {
   "cell_type": "code",
   "execution_count": 3,
   "metadata": {},
   "outputs": [],
   "source": [
    "rows = []\n",
    "with open('../data/mydata.csv', 'r') as f:\n",
    "    reader = csv.reader(f)\n",
    "    for row in reader:\n",
    "        rows.append(row)"
   ]
  },
  {
   "cell_type": "code",
   "execution_count": 4,
   "metadata": {},
   "outputs": [
    {
     "data": {
      "text/plain": [
       "[[' '],\n",
       " ['State', 'CA'],\n",
       " ['County', 'Kern'],\n",
       " ['Grocery stores, 2009', '187'],\n",
       " ['Grocery stores, 2014', '185'],\n",
       " ['Grocery stores (% change), 2009-14', '-1.069519'],\n",
       " ['Grocery stores/1,000 pop, 2009', '0.225264'],\n",
       " ['Grocery stores/1,000 pop, 2014', '0.211528'],\n",
       " ['Grocery stores/1,000 pop (% change), 2009-14', '-6.097775'],\n",
       " ['Supercenters & club stores, 2009', '3'],\n",
       " ['Supercenters & club stores, 2014', '6'],\n",
       " ['Supercenters & club stores (% change), 2009-14', '100'],\n",
       " ['Supercenters & club stores/1,000 pop, 2009', '0.003614'],\n",
       " ['Supercenters & club stores/1,000 pop, 2014', '0.00686'],\n",
       " ['Supercenters & club stores/1,000 pop (% change), 2007-14', '89.834768'],\n",
       " ['Convenience stores, 2009', '249'],\n",
       " ['Convenience stores, 2014', '275'],\n",
       " ['Convenience stores (% change), 2009-14', '10.441767'],\n",
       " ['Convenience stores/1,000 pop, 2009', '0.29995'],\n",
       " ['Convenience stores/1,000 pop, 2014', '0.314433'],\n",
       " ['Convenience stores/1,000 pop (% change), 2009-14', '4.828436'],\n",
       " ['Specialized food stores, 2009', '54'],\n",
       " ['Specialized food stores, 2014', '40'],\n",
       " ['Specialized food stores (% change), 2009-14', '-25.925926'],\n",
       " ['Specialized food stores/1,000 pop, 2009', '0.06505'],\n",
       " ['Specialized food stores/1,000 pop, 2014', '0.045736'],\n",
       " ['Specialized food stores/1,000 pop (% change), 2009-14', '-29.690827'],\n",
       " ['SNAP-authorized stores, 2012', '673.083333'],\n",
       " ['SNAP-authorized stores, 2016', '776'],\n",
       " ['SNAP-authorized stores (% change), 2012-16', '15.290331'],\n",
       " ['SNAP-authorized stores/1,000 pop, 2012', '0.786167'],\n",
       " ['SNAP-authorized stores/1,000 pop, 2016', '0.877046'],\n",
       " ['SNAP-authorized stores/1,000 pop (% change), 2012-16', '11.559759'],\n",
       " ['WIC-authorized stores, 2008', '170'],\n",
       " ['WIC-authorized stores, 2012', '240'],\n",
       " ['WIC-authorized stores (% change), 2008-12', '41.17647'],\n",
       " ['WIC-authorized stores/1,000 pop, 2008', '0.213261'],\n",
       " ['WIC-authorized stores/1,000 pop, 2012', '0.280322'],\n",
       " ['WIC-authorized stores/1,000 pop (% change), 2008-12', '31.4455']]"
      ]
     },
     "execution_count": 4,
     "metadata": {},
     "output_type": "execute_result"
    }
   ],
   "source": [
    "rows"
   ]
  },
  {
   "cell_type": "code",
   "execution_count": null,
   "metadata": {},
   "outputs": [],
   "source": []
  }
 ],
 "metadata": {
  "kernelspec": {
   "display_name": "Python 3",
   "language": "python",
   "name": "python3"
  },
  "language_info": {
   "codemirror_mode": {
    "name": "ipython",
    "version": 3
   },
   "file_extension": ".py",
   "mimetype": "text/x-python",
   "name": "python",
   "nbconvert_exporter": "python",
   "pygments_lexer": "ipython3",
   "version": "3.7.6"
  }
 },
 "nbformat": 4,
 "nbformat_minor": 4
}
